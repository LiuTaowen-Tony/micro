{
 "cells": [
  {
   "cell_type": "code",
   "execution_count": null,
   "metadata": {},
   "outputs": [],
   "source": [
    "import numpy as np\n",
    "import datasets\n",
    "from transformers import PreTrainedTokenizerFast\n",
    "\n",
    "\n",
    "\n",
    "def count_mean_token_length(dataset: datasets.Dataset, tokenizer, text_field='text', num_samples=1000):\n",
    "    # Load the dataset\n",
    "\n",
    "    if num_samples != -1:\n",
    "        dataset = dataset.take(num_samples)\n",
    "    dataset = dataset.map(lambda x : count_tokens(tokenizer, x))\n",
    "    mean_token_length = np.mean(dataset[text_field])\n",
    "    \n",
    "    return mean_token_length\n"
   ]
  },
  {
   "cell_type": "code",
   "execution_count": null,
   "metadata": {},
   "outputs": [],
   "source": []
  },
  {
   "cell_type": "code",
   "execution_count": 32,
   "metadata": {},
   "outputs": [],
   "source": [
    "import sys\n",
    "sys.path.append('../')\n",
    "from token_data import load_tokenizer\n",
    "tokenizer = load_tokenizer()\n",
    "\n",
    "dataset_name = \"HuggingFaceH4/ultrachat_200k\"\n",
    "dataset = datasets.load_dataset(dataset_name, split=\"train_sft\")\n",
    "num_samples = 1000\n",
    "if num_samples != -1:\n",
    "    dataset = dataset.take(num_samples)\n",
    "dataset = dataset.map(lambda x : count_tokens(tokenizer, x))\n",
    "mean_token_length = np.mean(dataset[\"tokens\"])"
   ]
  },
  {
   "cell_type": "code",
   "execution_count": 33,
   "metadata": {},
   "outputs": [
    {
     "data": {
      "text/plain": [
       "5364"
      ]
     },
     "execution_count": 33,
     "metadata": {},
     "output_type": "execute_result"
    }
   ],
   "source": [
    "max_token_length = np.max(dataset[\"tokens\"])\n",
    "max_token_length"
   ]
  },
  {
   "cell_type": "code",
   "execution_count": 34,
   "metadata": {},
   "outputs": [
    {
     "data": {
      "text/plain": [
       "(array([  0,   0,   1,  54, 343, 497, 101,   4,   0,   0]),\n",
       " array([    0,    64,   128,   256,   512,  1024,  2048,  4096,  8192,\n",
       "        16384, 32768]))"
      ]
     },
     "execution_count": 34,
     "metadata": {},
     "output_type": "execute_result"
    }
   ],
   "source": [
    "np.histogram(dataset[\"tokens\"], bins=[0, 64, 128, 256, 512, 1024, 2048, 4096, 8192, 16384, 32768])"
   ]
  },
  {
   "cell_type": "code",
   "execution_count": 38,
   "metadata": {},
   "outputs": [
    {
     "data": {
      "text/plain": [
       "(array([168., 175., 197., 130., 107.,  63.,  51.,  17.,   5.,   6.,   9.,\n",
       "          7.,   4.,   2.,   0.,   0.,   1.,   2.,   1.,   0.,   0.,   0.]),\n",
       " array([ 512.,  768., 1024., 1280., 1536., 1792., 2048., 2304., 2560.,\n",
       "        2816., 3072., 3328., 3584., 3840., 4096., 4352., 4608., 4864.,\n",
       "        5120., 5376., 5632., 5888., 6144.]),\n",
       " <BarContainer object of 22 artists>)"
      ]
     },
     "execution_count": 38,
     "metadata": {},
     "output_type": "execute_result"
    },
    {
     "data": {
      "image/png": "[encoded data removed]",
      "text/plain": [
       "<Figure size 640x480 with 1 Axes>"
      ]
     },
     "metadata": {},
     "output_type": "display_data"
    }
   ],
   "source": [
    "import matplotlib.pyplot as plt\n",
    "plt.hist(dataset[\"tokens\"], bins=[512, 768, 1024, 1280, 1536, 1792, 2048, 2304, 2560, 2816, 3072, 3328, 3584, 3840, 4096, 4352, 4608, 4864, 5120, 5376, 5632, 5888, 6144,])"
   ]
  },
  {
   "cell_type": "code",
   "execution_count": null,
   "metadata": {},
   "outputs": [],
   "source": []
  }
 ],
 "metadata": {
  "kernelspec": {
   "display_name": ".venv",
   "language": "python",
   "name": "python3"
  },
  "language_info": {
   "codemirror_mode": {
    "name": "ipython",
    "version": 3
   },
   "file_extension": ".py",
   "mimetype": "text/x-python",
   "name": "python",
   "nbconvert_exporter": "python",
   "pygments_lexer": "ipython3",
   "version": "3.9.18"
  }
 },
 "nbformat": 4,
 "nbformat_minor": 2
}
