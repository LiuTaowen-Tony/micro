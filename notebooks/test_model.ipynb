{
 "cells": [
  {
   "cell_type": "code",
   "execution_count": 1,
   "metadata": {},
   "outputs": [
    {
     "name": "stderr",
     "output_type": "stream",
     "text": [
      "/home/tl2020/train_micro/.venv/lib64/python3.9/site-packages/tqdm/auto.py:21: TqdmWarning: IProgress not found. Please update jupyter and ipywidgets. See https://ipywidgets.readthedocs.io/en/stable/user_install.html\n",
      "  from .autonotebook import tqdm as notebook_tqdm\n"
     ]
    }
   ],
   "source": [
    "import transformers\n",
    "import torch\n",
    "import datasets\n",
    "from torch.utils.data import DataLoader\n",
    "from functools import partial\n",
    "from torch import nn\n",
    "import dataclasses\n",
    "\n",
    "import sys\n",
    "sys.path.append('..')\n",
    "import token_data\n",
    "import micro_model\n",
    "\n",
    "@dataclasses.dataclass\n",
    "class TesterConfig:\n",
    "    batch_size: int = 10\n",
    "    max_seq_len: int = 1024\n",
    "    device: str = \"cuda\" if torch.cuda.is_available() else \"cpu\"\n",
    "\n",
    "class Tester:\n",
    "    def __init__(self, model, dataset, tokenizer, loss, config: TesterConfig = None):\n",
    "        self.tokenizer = tokenizer\n",
    "        self.model = model\n",
    "        self.dataset = dataset\n",
    "        self.config = config if config is not None else TesterConfig()\n",
    "        self.dataloader = DataLoader(self.dataset, batch_size=self.config.batch_size, num_workers=1, collate_fn=partial(\n",
    "            token_data.data_collator, self.tokenizer, self.config.max_seq_len))\n",
    "        self.model = self.model.to(self.config.device)\n",
    "        self.model.eval()\n",
    "        self.model.to(torch.bfloat16)\n",
    "        self.loss = loss\n",
    "\n",
    "    @torch.no_grad()\n",
    "    def test(self):\n",
    "        i = 0\n",
    "        for batch in self.dataloader:\n",
    "            batch[\"input_ids\"] = batch[\"input_ids\"].to(self.config.device)\n",
    "            batch[\"labels\"] = batch[\"labels\"].to(self.config.device)\n",
    "            i += 1\n",
    "            logits = self.model.forward(batch[\"input_ids\"])\n",
    "            if not isinstance(logits, torch.Tensor):\n",
    "                logits = logits.logits\n",
    "            loss = self.loss(logits.view(-1, logits.size(-1)), batch[\"labels\"].view(-1))\n",
    "            print(f\"Loss: {loss}\")\n",
    "            if i == 10:\n",
    "                break"
   ]
  },
  {
   "cell_type": "code",
   "execution_count": 12,
   "metadata": {},
   "outputs": [],
   "source": [
    "dataset = datasets.load_dataset(path=\"cerebras/SlimPajama-627B\", split='test', trust_remote_code=True, streaming=True)"
   ]
  },
  {
   "cell_type": "code",
   "execution_count": 13,
   "metadata": {},
   "outputs": [],
   "source": [
    "loss = nn.CrossEntropyLoss()"
   ]
  },
  {
   "cell_type": "code",
   "execution_count": 14,
   "metadata": {},
   "outputs": [],
   "source": [
    "\n",
    "tokenizer = transformers.AutoTokenizer.from_pretrained(\"TinyLlama/TinyLlama-1.1B-Chat-v0.1\")\n",
    "model = transformers.AutoModelForCausalLM.from_pretrained(\"TinyLlama/TinyLlama-1.1B-Chat-v0.1\")"
   ]
  },
  {
   "cell_type": "code",
   "execution_count": 15,
   "metadata": {},
   "outputs": [
    {
     "name": "stdout",
     "output_type": "stream",
     "text": [
      "Loss: 3.0625\n",
      "Loss: 2.484375\n",
      "Loss: 3.453125\n",
      "Loss: 3.328125\n",
      "Loss: 2.84375\n",
      "Loss: 2.953125\n",
      "Loss: 3.515625\n",
      "Loss: 2.65625\n",
      "Loss: 3.28125\n",
      "Loss: 3.03125\n"
     ]
    }
   ],
   "source": [
    "tester1 = Tester(model, dataset, tokenizer, loss)\n",
    "tester1.test()"
   ]
  },
  {
   "cell_type": "code",
   "execution_count": 16,
   "metadata": {},
   "outputs": [
    {
     "name": "stderr",
     "output_type": "stream",
     "text": [
      "/tmp/ipykernel_785951/4172788844.py:4: FutureWarning: You are using `torch.load` with `weights_only=False` (the current default value), which uses the default pickle module implicitly. It is possible to construct malicious pickle data which will execute arbitrary code during unpickling (See https://github.com/pytorch/pytorch/blob/main/SECURITY.md#untrusted-models for more details). In a future release, the default value for `weights_only` will be flipped to `True`. This limits the functions that could be executed during unpickling. Arbitrary objects will no longer be allowed to be loaded via this mode unless they are explicitly allowlisted by the user via `torch.serialization.add_safe_globals`. We recommend you start setting `weights_only=True` for any use case where you don't have full control of the loaded file. Please open an issue on GitHub for any issues related to this experimental feature.\n",
      "  ckpt = torch.load('/home/tl2020/train_micro/checkpoints/micro_29oct.ckpt')\n"
     ]
    },
    {
     "name": "stdout",
     "output_type": "stream",
     "text": [
      "Loss: 3.2799911499023438\n",
      "Loss: 2.6166486740112305\n",
      "Loss: 3.383049249649048\n",
      "Loss: 3.2342450618743896\n",
      "Loss: 3.2254295349121094\n",
      "Loss: 3.1496567726135254\n",
      "Loss: 2.8281991481781006\n",
      "Loss: 2.8293678760528564\n",
      "Loss: 3.2402546405792236\n",
      "Loss: 2.7298648357391357\n"
     ]
    }
   ],
   "source": [
    "tokenizer = token_data.load_tokenizer()\n",
    "\n",
    "model = micro_model.get_model()\n",
    "ckpt = torch.load('/home/tl2020/train_micro/checkpoints/micro_29oct.ckpt')\n",
    "model.load_state_dict({ k[6:]: v for k, v in ckpt[\"state_dict\"].items() })\n",
    "tester2 = Tester(model, dataset, tokenizer, loss)\n",
    "tester2.test()"
   ]
  },
  {
   "cell_type": "code",
   "execution_count": null,
   "metadata": {},
   "outputs": [],
   "source": []
  },
  {
   "cell_type": "code",
   "execution_count": null,
   "metadata": {},
   "outputs": [],
   "source": []
  }
 ],
 "metadata": {
  "kernelspec": {
   "display_name": ".venv",
   "language": "python",
   "name": "python3"
  },
  "language_info": {
   "codemirror_mode": {
    "name": "ipython",
    "version": 3
   },
   "file_extension": ".py",
   "mimetype": "text/x-python",
   "name": "python",
   "nbconvert_exporter": "python",
   "pygments_lexer": "ipython3",
   "version": "3.9.18"
  }
 },
 "nbformat": 4,
 "nbformat_minor": 2
}
