{
 "cells": [
  {
   "cell_type": "code",
   "execution_count": 3,
   "metadata": {},
   "outputs": [
    {
     "name": "stderr",
     "output_type": "stream",
     "text": [
      "/home/tl2020/train_micro/.venv/lib64/python3.9/site-packages/tqdm/auto.py:21: TqdmWarning: IProgress not found. Please update jupyter and ipywidgets. See https://ipywidgets.readthedocs.io/en/stable/user_install.html\n",
      "  from .autonotebook import tqdm as notebook_tqdm\n"
     ]
    }
   ],
   "source": [
    "import sys \n",
    "sys.path.append('..')\n",
    "\n",
    "import token_data"
   ]
  },
  {
   "cell_type": "code",
   "execution_count": null,
   "metadata": {},
   "outputs": [],
   "source": [
    "from torch import nn\n",
    "from functools import partial\n",
    "from torch.utils.data import DataLoader\n",
    "import datasets\n",
    "\n",
    "class Tester:\n",
    "    def __init__(self, model):\n",
    "        self.dataset = datasets.load_dataset(path=\"cerebras/SlimPajama-627B\", split='train', trust_remote_code=True, streaming=True)\n",
    "        self.model = model\n",
    "        self.tokenizer = token_data.get_tokenizer()\n",
    "        self.dataloader = DataLoader(self.dataset, batch_size=10, num_workers=1, data_collator=partial(token_data.data_collator, self.tokenizer, 1024))\n",
    "        self.loss = None\n",
    "\n",
    "    def test(self):\n",
    "        i = 0\n",
    "        for batch in self.dataloader:\n",
    "            print(batch)\n",
    "\n",
    "\n",
    "            if i == 10:\n",
    "                break\n",
    "\n",
    "\n"
   ]
  }
 ],
 "metadata": {
  "kernelspec": {
   "display_name": ".venv",
   "language": "python",
   "name": "python3"
  },
  "language_info": {
   "codemirror_mode": {
    "name": "ipython",
    "version": 3
   },
   "file_extension": ".py",
   "mimetype": "text/x-python",
   "name": "python",
   "nbconvert_exporter": "python",
   "pygments_lexer": "ipython3",
   "version": "3.9.18"
  }
 },
 "nbformat": 4,
 "nbformat_minor": 2
}
